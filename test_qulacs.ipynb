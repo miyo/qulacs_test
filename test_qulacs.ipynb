{
  "nbformat": 4,
  "nbformat_minor": 0,
  "metadata": {
    "colab": {
      "name": "test-qulacs",
      "provenance": []
    },
    "kernelspec": {
      "name": "python3",
      "display_name": "Python 3"
    },
    "language_info": {
      "name": "python"
    }
  },
  "cells": [
    {
      "cell_type": "code",
      "metadata": {
        "colab": {
          "base_uri": "https://localhost:8080/"
        },
        "id": "gyQFh1AaqlLk",
        "outputId": "01787079-e6fd-4dfd-c0e5-09d6b50f481a"
      },
      "source": [
        "!pip install qulacs"
      ],
      "execution_count": 2,
      "outputs": [
        {
          "output_type": "stream",
          "text": [
            "Collecting git+https://github.com/qulacs/qulacs.git\n",
            "  Cloning https://github.com/qulacs/qulacs.git to /tmp/pip-req-build-oda8cw5n\n",
            "  Running command git clone -q https://github.com/qulacs/qulacs.git /tmp/pip-req-build-oda8cw5n\n",
            "Requirement already satisfied (use --upgrade to upgrade): Qulacs==0.2.0 from git+https://github.com/qulacs/qulacs.git in /usr/local/lib/python3.7/dist-packages\n",
            "Building wheels for collected packages: Qulacs\n",
            "  Building wheel for Qulacs (setup.py) ... \u001b[?25l\u001b[?25hdone\n",
            "  Created wheel for Qulacs: filename=Qulacs-0.2.0-cp37-cp37m-linux_x86_64.whl size=406531 sha256=aab13492fda3b79b4a32145572c09de83bf1c5b401e9f48582d31c72c6056e96\n",
            "  Stored in directory: /tmp/pip-ephem-wheel-cache-_ix109nr/wheels/c6/89/7a/bafab8df81a9052e74b602daee6668059368e7532cf3d39cf5\n",
            "Successfully built Qulacs\n"
          ],
          "name": "stdout"
        }
      ]
    },
    {
      "cell_type": "code",
      "metadata": {
        "colab": {
          "base_uri": "https://localhost:8080/"
        },
        "id": "0I4-IWGErCaR",
        "outputId": "ce752192-e7d8-4453-8066-7e78dc4523fd"
      },
      "source": [
        "from qulacs import Observable, QuantumCircuit, QuantumState\n",
        "from qulacs.gate import Y,CNOT,merge\n",
        "\n",
        "state = QuantumState(3)\n",
        "state.set_Haar_random_state()\n",
        "\n",
        "circuit = QuantumCircuit(3)\n",
        "circuit.add_X_gate(0)\n",
        "merged_gate = merge(CNOT(0,1),Y(1))\n",
        "circuit.add_gate(merged_gate)\n",
        "circuit.add_RX_gate(1,0.5)\n",
        "circuit.update_quantum_state(state)\n",
        "\n",
        "observable = Observable(3)\n",
        "observable.add_operator(2.0, \"X 2 Y 1 Z 0\")\n",
        "observable.add_operator(-3.0, \"Z 2\")\n",
        "value = observable.get_expectation_value(state)\n",
        "print(value)"
      ],
      "execution_count": 3,
      "outputs": [
        {
          "output_type": "stream",
          "text": [
            "-1.3912241022670684\n"
          ],
          "name": "stdout"
        }
      ]
    },
    {
      "cell_type": "code",
      "metadata": {
        "id": "lk3DE9QGrZ8R"
      },
      "source": [
        ""
      ],
      "execution_count": null,
      "outputs": []
    }
  ]
}
